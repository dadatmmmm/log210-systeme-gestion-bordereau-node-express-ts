{
  "nbformat": 4,
  "nbformat_minor": 0,
  "metadata": {
    "colab": {
      "provenance": [],
      "include_colab_link": true
    },
    "kernelspec": {
      "name": "python3",
      "display_name": "Python 3"
    },
    "language_info": {
      "name": "python"
    }
  },
  "cells": [
    {
      "cell_type": "markdown",
      "metadata": {
        "id": "view-in-github",
        "colab_type": "text"
      },
      "source": [
        "<a href=\"https://colab.research.google.com/github/dadatmmmm/log210-systeme-gestion-bordereau-node-express-ts/blob/master/SWE3011_41_Task1.ipynb\" target=\"_parent\"><img src=\"https://colab.research.google.com/assets/colab-badge.svg\" alt=\"Open In Colab\"/></a>"
      ]
    },
    {
      "cell_type": "markdown",
      "source": [
        "# SWE3011_41 Task1"
      ],
      "metadata": {
        "id": "jIsDIMpR01Wb"
      }
    },
    {
      "cell_type": "markdown",
      "source": [
        "**Supervised Text Classification using traditional machine learning methods**\n",
        "\n",
        "1. Complete all the functions given.\n",
        "2. Conduct various experiments including hyper-parameter tuning, cross validation, etc.\n",
        "3. Write a report on the analysis of experiment results.  \n"
      ],
      "metadata": {
        "id": "VslW0cm0Wzz7"
      }
    },
    {
      "cell_type": "markdown",
      "source": [
        "**0. Installation**"
      ],
      "metadata": {
        "id": "N1U7vOSEpBIH"
      }
    },
    {
      "cell_type": "code",
      "source": [
        "pip install datasets"
      ],
      "metadata": {
        "id": "UHRoKJErpFFG"
      },
      "execution_count": null,
      "outputs": []
    },
    {
      "cell_type": "markdown",
      "source": [
        "**1. Load Dataset**"
      ],
      "metadata": {
        "id": "HJ8hRN1d07Jq"
      }
    },
    {
      "cell_type": "markdown",
      "source": [
        "\n",
        "Evaluation should be done using **provided test dataset**"
      ],
      "metadata": {
        "id": "ABcoKe0mM4w4"
      }
    },
    {
      "cell_type": "code",
      "source": [
        "from datasets import load_dataset\n",
        "\n",
        "train_ds = load_dataset(\"glue\", \"sst2\", split=\"train\")\n",
        "\n",
        "# Evaluation should be done using test_ds\n",
        "test_ds = load_dataset(\"csv\", data_files=\"./test_dataset.csv\")['train']"
      ],
      "metadata": {
        "id": "OgF-lLpfpKR8"
      },
      "execution_count": null,
      "outputs": []
    },
    {
      "cell_type": "markdown",
      "source": [
        "**2. Preparing Dataset**"
      ],
      "metadata": {
        "id": "jzpPxUk81BE6"
      }
    },
    {
      "cell_type": "code",
      "source": [
        "from sklearn.feature_extraction.text import TfidfVectorizer"
      ],
      "metadata": {
        "id": "4UZp9fN8zYrX"
      },
      "execution_count": null,
      "outputs": []
    },
    {
      "cell_type": "code",
      "source": [
        "def transform_data(X_train, X_test):\n",
        "    \"\"\"\n",
        "    Input:\n",
        "    - X_train, X_test: Series containing the text data for training and testing respectively.\n",
        "\n",
        "    Output:\n",
        "    - X_train_tfidf, X_test_tfidf: Transformed text data in TF-IDF format for training and testing respectively.\n",
        "    - vectorizer: Fitted TfidfVectorizer object.\n",
        "    \"\"\"\n",
        "    #########################################\n",
        "    # TODO: Convert the text data to TF-IDF format and return the transformed data and the vectorizer\n",
        "    vectorizer = None\n",
        "    X_test_tfidf = None\n",
        "    X_train_tfidf = None\n",
        "    #########################################\n",
        "    return X_train_tfidf, X_test_tfidf, vectorizer"
      ],
      "metadata": {
        "id": "BcVU6nvn1nRr"
      },
      "execution_count": null,
      "outputs": []
    },
    {
      "cell_type": "code",
      "source": [
        "X_train, y_train = train_ds['sentence'], train_ds['label']\n",
        "X_test, y_test = test_ds['sentence'], test_ds['label']\n",
        "X_train_tfidf, X_test_tfidf, vectorizer = transform_data(X_train, X_test)"
      ],
      "metadata": {
        "id": "HcpJGya96KCt"
      },
      "execution_count": null,
      "outputs": []
    },
    {
      "cell_type": "markdown",
      "source": [
        "**3. Train**"
      ],
      "metadata": {
        "id": "-0iimLtr1LOS"
      }
    },
    {
      "cell_type": "code",
      "source": [
        "from sklearn.linear_model import LogisticRegression\n",
        "from sklearn.ensemble import RandomForestClassifier\n",
        "from sklearn.naive_bayes import MultinomialNB"
      ],
      "metadata": {
        "id": "Lssnez4I1b1F"
      },
      "execution_count": null,
      "outputs": []
    },
    {
      "cell_type": "code",
      "source": [
        "def logistic_regression(X_train_tfidf, y_train):\n",
        "    \"\"\"\n",
        "    Input:\n",
        "    - X_train_tfidf: Transformed text data in TF-IDF format for training.\n",
        "    - y_train: Series containing the labels for training.\n",
        "\n",
        "    Output:\n",
        "    - clf: Trained Logistic Regression model.\n",
        "    \"\"\"\n",
        "    #########################################\n",
        "    # TODO: Train a logistic regression model and return the trained model\n",
        "    clf = None\n",
        "    #########################################\n",
        "    return clf"
      ],
      "metadata": {
        "id": "ijeA5Fne1Ogq"
      },
      "execution_count": null,
      "outputs": []
    },
    {
      "cell_type": "code",
      "source": [
        "def random_forest(X_train_tfidf, y_train):\n",
        "    \"\"\"\n",
        "    Input:\n",
        "    - X_train_tfidf: Transformed text data in TF-IDF format for training.\n",
        "    - y_train: Series containing the labels for training.\n",
        "\n",
        "    Output:\n",
        "    - clf: Trained Random Forest classifier.\n",
        "    \"\"\"\n",
        "    #########################################\n",
        "    # TODO: Train a Random Forest classifier and return the trained model\n",
        "    clf = None\n",
        "    #########################################\n",
        "    return clf"
      ],
      "metadata": {
        "id": "w2pcR9Fa1zGC"
      },
      "execution_count": null,
      "outputs": []
    },
    {
      "cell_type": "code",
      "source": [
        "def naive_bayes_classifier(X_train_tfidf, y_train):\n",
        "    \"\"\"\n",
        "    Input:\n",
        "    - X_train_tfidf: Transformed text data in TF-IDF format for training.\n",
        "    - y_train: Series containing the labels for training.\n",
        "\n",
        "    Output:\n",
        "    - clf: Trained Multinomial Naive Bayes classifier.\n",
        "    \"\"\"\n",
        "    #########################################\n",
        "    # TODO: Train a Multinomial Naive Bayes classifier and return the trained model\n",
        "    clf = None\n",
        "    #########################################\n",
        "    return clf"
      ],
      "metadata": {
        "id": "emWe05Hr1zJS"
      },
      "execution_count": null,
      "outputs": []
    },
    {
      "cell_type": "code",
      "source": [
        "clf = logistic_regression(X_train_tfidf, y_train)"
      ],
      "metadata": {
        "id": "bccLPv1PLRVH"
      },
      "execution_count": null,
      "outputs": []
    },
    {
      "cell_type": "code",
      "source": [
        "#clf_rf = random_forest(X_train_tfidf, y_train)"
      ],
      "metadata": {
        "id": "kHSb1V2eJpRL"
      },
      "execution_count": null,
      "outputs": []
    },
    {
      "cell_type": "code",
      "source": [
        "#clf_nb = naive_bayes_classifier(X_train_tfidf, y_train)"
      ],
      "metadata": {
        "id": "8SuyEa5zJpWK"
      },
      "execution_count": null,
      "outputs": []
    },
    {
      "cell_type": "markdown",
      "source": [
        "**4. Evaluation**"
      ],
      "metadata": {
        "id": "JZpY6t5d1Opi"
      }
    },
    {
      "cell_type": "code",
      "source": [
        "from sklearn.metrics import accuracy_score, classification_report"
      ],
      "metadata": {
        "id": "481agEGw1dUN"
      },
      "execution_count": null,
      "outputs": []
    },
    {
      "cell_type": "code",
      "source": [
        "def evaluate_model(clf, X_test_tfidf, y_test):\n",
        "    \"\"\"\n",
        "    Input:\n",
        "    - clf: Trained Logistic Regression model.\n",
        "    - X_test_tfidf: Transformed text data in TF-IDF format for testing.\n",
        "    - y_test: Series containing the labels for testing.\n",
        "\n",
        "    Output:\n",
        "    - None (This function will print the evaluation results.)\n",
        "    \"\"\"\n",
        "    #########################################\n",
        "    # TODO: Evaluate the model and print the results\n",
        "    y_pred = None\n",
        "    accuracy = None\n",
        "    #########################################\n",
        "    print(f\"Accuracy: {accuracy:.2f}\")\n",
        "    print(\"Classification Report:\")\n",
        "    print(classification_report(y_test, y_pred))"
      ],
      "metadata": {
        "id": "u44WV9BW17fS"
      },
      "execution_count": null,
      "outputs": []
    },
    {
      "cell_type": "code",
      "source": [
        "evaluate_model(clf, X_test_tfidf, y_test)"
      ],
      "metadata": {
        "id": "37dcjthZ6Wst"
      },
      "execution_count": null,
      "outputs": []
    },
    {
      "cell_type": "code",
      "source": [
        "#evaluate_model(clf_rf, X_test_tfidf, y_test)"
      ],
      "metadata": {
        "id": "gRKZTF0IJvti"
      },
      "execution_count": null,
      "outputs": []
    },
    {
      "cell_type": "code",
      "source": [
        "#evaluate_model(clf_nb, X_test_tfidf, y_test)"
      ],
      "metadata": {
        "id": "F-ThPD3KJvv6"
      },
      "execution_count": null,
      "outputs": []
    },
    {
      "cell_type": "code",
      "source": [],
      "metadata": {
        "id": "sa4HdYcyByr5"
      },
      "execution_count": null,
      "outputs": []
    }
  ]
}